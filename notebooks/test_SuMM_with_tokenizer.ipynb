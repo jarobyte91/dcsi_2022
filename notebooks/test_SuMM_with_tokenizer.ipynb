{
 "cells": [
  {
   "cell_type": "code",
   "execution_count": 1,
   "id": "9014841d",
   "metadata": {},
   "outputs": [],
   "source": [
    "import pandas as pd\n",
    "import importlib\n",
    "from pathlib import Path\n",
    "import transformers\n",
    "from transformers import AutoTokenizer, AutoModel\n",
    "import torch\n",
    "import pytorch_lightning as pl"
   ]
  },
  {
   "cell_type": "code",
   "execution_count": 2,
   "id": "dab05290",
   "metadata": {},
   "outputs": [],
   "source": [
    "import dsci_2022"
   ]
  },
  {
   "cell_type": "code",
   "execution_count": 3,
   "id": "f4efad7c",
   "metadata": {},
   "outputs": [
    {
     "name": "stdout",
     "output_type": "stream",
     "text": [
      "/lustre06/project/6001735/dsci_2022/notebooks\r\n"
     ]
    }
   ],
   "source": [
    "!pwd"
   ]
  },
  {
   "cell_type": "code",
   "execution_count": 4,
   "id": "19d0b853",
   "metadata": {},
   "outputs": [],
   "source": [
    "transformers.logging.set_verbosity_error()\n",
    "TRANSFORMER_CACHE = Path(\"../models/transformer_cache\")\n",
    "data = pd.read_pickle('../data/labels.pkl')"
   ]
  },
  {
   "cell_type": "code",
   "execution_count": 5,
   "id": "8da1dbfa",
   "metadata": {},
   "outputs": [],
   "source": [
    "trainData = data[data.paper_id<=1150]\n",
    "testData = data[data.paper_id>1640]"
   ]
  },
  {
   "cell_type": "code",
   "execution_count": 6,
   "id": "952ac71b",
   "metadata": {},
   "outputs": [],
   "source": [
    "pretrained_model = AutoModel.from_pretrained(\n",
    "    '../resources/checkpoints/bert-base-uncased.pt'\n",
    ")\n",
    "tokenizer = AutoTokenizer.from_pretrained(\n",
    "    '../resources/checkpoints/bert-base-uncased-tokenizer.pt'\n",
    ")"
   ]
  },
  {
   "cell_type": "code",
   "execution_count": 7,
   "id": "8752477d",
   "metadata": {
    "scrolled": false
   },
   "outputs": [
    {
     "name": "stdout",
     "output_type": "stream",
     "text": [
      "train_len : 225584 , test_len : 2548, val_len : 33702 \n",
      "torch.Size([8, 9359])\n",
      "torch.Size([8, 20024])\n",
      "torch.Size([8, 8878])\n",
      "CPU times: user 38.2 ms, sys: 96.7 ms, total: 135 ms\n",
      "Wall time: 3.7 s\n"
     ]
    }
   ],
   "source": [
    "%%time\n",
    "importlib.reload(dsci_2022.chunksumm)\n",
    "\n",
    "data_module = dsci_2022.chunksumm.SummDataModule(\n",
    "    trainData = trainData[trainData.paper_id<=1000], \n",
    "    valData = trainData[trainData.paper_id>1000],\n",
    "    testData = testData,\n",
    "    tokenizer = tokenizer,\n",
    "    SuMMDataset = dsci_2022.chunksumm.SuMM_with_tokenizer,\n",
    "    process_paper_level = True\n",
    ")\n",
    "\n",
    "data_module.setup()\n",
    "print(\n",
    "    f\"train_len : {data_module.train_len} , test_len : {data_module.test_len}, val_len : {data_module.val_len} \"\n",
    ")\n",
    "print(next(iter(data_module.train_dataloader()))[\"input_ids\"].shape)\n",
    "print(next(iter(data_module.val_dataloader()))[\"input_ids\"].shape)\n",
    "print(next(iter(data_module.test_dataloader()))[\"input_ids\"].shape)"
   ]
  },
  {
   "cell_type": "code",
   "execution_count": 8,
   "id": "c07aef08",
   "metadata": {},
   "outputs": [
    {
     "name": "stderr",
     "output_type": "stream",
     "text": [
      "/home/jarobyte/envs/detests/lib/python3.8/site-packages/torchmetrics/utilities/prints.py:36: UserWarning: Metric `AUROC` will save all targets and predictions in buffer. For large datasets this may lead to large memory footprint.\n",
      "  warnings.warn(*args, **kwargs)\n",
      "/home/jarobyte/envs/detests/lib/python3.8/site-packages/pytorch_lightning/utilities/parsing.py:261: UserWarning: Attribute 'model' is an instance of `nn.Module` and is already saved during checkpointing. It is recommended to ignore them using `self.save_hyperparameters(ignore=['model'])`.\n",
      "  rank_zero_warn(\n"
     ]
    }
   ],
   "source": [
    "# This is required to initialize the backend-model (bert) which is a pretrained model.\n",
    "importlib.reload(dsci_2022.chunksumm)\n",
    "pretrained_model = AutoModel.from_pretrained('../resources/checkpoints/bert-base-uncased.pt')\n",
    "tokenizer = AutoTokenizer.from_pretrained('../resources/checkpoints/bert-base-uncased-tokenizer.pt')\n",
    "model = dsci_2022.chunksumm.CHUNKSUMM_CONV(\n",
    "    model = pretrained_model,\n",
    "    learning_rate = 1e-6,\n",
    "    enable_chunk = True\n",
    ")"
   ]
  },
  {
   "cell_type": "code",
   "execution_count": 9,
   "id": "c463e22b",
   "metadata": {},
   "outputs": [],
   "source": [
    "\n",
    "\n",
    "# pl.Trainer(gpus=-1,logger=None).test(model=model,\n",
    "#                                             dataloaders=data_module.test_dataloader())"
   ]
  },
  {
   "cell_type": "code",
   "execution_count": 10,
   "id": "a14697d8",
   "metadata": {},
   "outputs": [],
   "source": [
    "batch = next(iter(data_module.train_dataloader()))"
   ]
  },
  {
   "cell_type": "code",
   "execution_count": 11,
   "id": "0dbaa17b",
   "metadata": {
    "scrolled": true
   },
   "outputs": [],
   "source": [
    "# %%time\n",
    "# model.cpu()\n",
    "# out = model(\n",
    "#     batch[\"input_ids\"].cpu(), \n",
    "#     batch[\"attention_mask\"].cpu(), \n",
    "#     batch[\"token_type_ids\"].cpu()\n",
    "# )\n",
    "# out.shape"
   ]
  },
  {
   "cell_type": "code",
   "execution_count": 12,
   "id": "d29d0b69",
   "metadata": {
    "scrolled": true
   },
   "outputs": [
    {
     "name": "stdout",
     "output_type": "stream",
     "text": [
      "CPU times: user 1.65 s, sys: 1.31 s, total: 2.95 s\n",
      "Wall time: 3.37 s\n"
     ]
    },
    {
     "data": {
      "text/plain": [
       "torch.Size([8, 2, 9359])"
      ]
     },
     "execution_count": 12,
     "metadata": {},
     "output_type": "execute_result"
    }
   ],
   "source": [
    "%%time\n",
    "model.cuda()\n",
    "out = model(\n",
    "    batch[\"input_ids\"].cuda(), \n",
    "    batch[\"attention_mask\"].cuda(), \n",
    "    batch[\"token_type_ids\"].cuda()\n",
    ")\n",
    "out.shape"
   ]
  },
  {
   "cell_type": "code",
   "execution_count": 13,
   "id": "86e353ec",
   "metadata": {},
   "outputs": [],
   "source": [
    "#torch.where(batch['targets'].bool(),torch.tensor([1,0]),torch.tensor([0,1]))"
   ]
  },
  {
   "cell_type": "code",
   "execution_count": 14,
   "id": "48b3686d",
   "metadata": {},
   "outputs": [],
   "source": [
    "new_targets = model.expand_targets(batch['targets'])"
   ]
  },
  {
   "cell_type": "code",
   "execution_count": 15,
   "id": "39b85afb",
   "metadata": {},
   "outputs": [
    {
     "data": {
      "text/plain": [
       "tensor(1.)"
      ]
     },
     "execution_count": 15,
     "metadata": {},
     "output_type": "execute_result"
    }
   ],
   "source": [
    "batch['targets'][-2,0]"
   ]
  },
  {
   "cell_type": "code",
   "execution_count": 16,
   "id": "17b5d2c4",
   "metadata": {},
   "outputs": [
    {
     "data": {
      "text/plain": [
       "tensor([[0., 1.],\n",
       "        [0., 1.],\n",
       "        [0., 1.],\n",
       "        ...,\n",
       "        [0., 1.],\n",
       "        [0., 1.],\n",
       "        [0., 1.]], device='cuda:0')"
      ]
     },
     "execution_count": 16,
     "metadata": {},
     "output_type": "execute_result"
    }
   ],
   "source": [
    "new_targets"
   ]
  },
  {
   "cell_type": "code",
   "execution_count": 17,
   "id": "8847d0cb",
   "metadata": {},
   "outputs": [],
   "source": [
    "# new_targets.reshape_as(out)"
   ]
  },
  {
   "cell_type": "code",
   "execution_count": 18,
   "id": "aef0c232",
   "metadata": {},
   "outputs": [
    {
     "data": {
      "text/plain": [
       "tensor([[0., 1.],\n",
       "        [0., 1.],\n",
       "        [0., 1.],\n",
       "        ...,\n",
       "        [0., 1.],\n",
       "        [0., 1.],\n",
       "        [0., 1.]], device='cuda:0')"
      ]
     },
     "execution_count": 18,
     "metadata": {},
     "output_type": "execute_result"
    }
   ],
   "source": [
    "new_targets"
   ]
  },
  {
   "cell_type": "code",
   "execution_count": 19,
   "id": "68060881",
   "metadata": {},
   "outputs": [
    {
     "name": "stdout",
     "output_type": "stream",
     "text": [
      "Sat Jul  9 15:45:48 2022       \n",
      "+-----------------------------------------------------------------------------+\n",
      "| NVIDIA-SMI 510.47.03    Driver Version: 510.47.03    CUDA Version: 11.6     |\n",
      "|-------------------------------+----------------------+----------------------+\n",
      "| GPU  Name        Persistence-M| Bus-Id        Disp.A | Volatile Uncorr. ECC |\n",
      "| Fan  Temp  Perf  Pwr:Usage/Cap|         Memory-Usage | GPU-Util  Compute M. |\n",
      "|                               |                      |               MIG M. |\n",
      "|===============================+======================+======================|\n",
      "|   0  NVIDIA A100-SXM...  Off  | 00000000:41:00.0 Off |                    0 |\n",
      "| N/A   29C    P0    58W / 400W |   5036MiB / 40960MiB |      0%      Default |\n",
      "|                               |                      |             Disabled |\n",
      "+-------------------------------+----------------------+----------------------+\n",
      "                                                                               \n",
      "+-----------------------------------------------------------------------------+\n",
      "| Processes:                                                                  |\n",
      "|  GPU   GI   CI        PID   Type   Process name                  GPU Memory |\n",
      "|        ID   ID                                                   Usage      |\n",
      "|=============================================================================|\n",
      "|    0   N/A  N/A    162406      C   ...e/envs/detests/bin/python     5033MiB |\n",
      "+-----------------------------------------------------------------------------+\n"
     ]
    }
   ],
   "source": [
    "!nvidia-smi"
   ]
  },
  {
   "cell_type": "code",
   "execution_count": null,
   "id": "f79370ea",
   "metadata": {},
   "outputs": [],
   "source": []
  }
 ],
 "metadata": {
  "kernelspec": {
   "display_name": "Python 3 (ipykernel)",
   "language": "python",
   "name": "python3"
  },
  "language_info": {
   "codemirror_mode": {
    "name": "ipython",
    "version": 3
   },
   "file_extension": ".py",
   "mimetype": "text/x-python",
   "name": "python",
   "nbconvert_exporter": "python",
   "pygments_lexer": "ipython3",
   "version": "3.8.10"
  }
 },
 "nbformat": 4,
 "nbformat_minor": 5
}
