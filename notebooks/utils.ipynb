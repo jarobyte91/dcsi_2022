{
 "cells": [
  {
   "cell_type": "code",
   "execution_count": 1,
   "metadata": {
    "scrolled": false
   },
   "outputs": [],
   "source": [
    "import pandas as pd\n",
    "# import pickle5 as pickle\n",
    "import importlib\n",
    "import math\n",
    "import matplotlib.pyplot as plt\n",
    "import re\n",
    "from rouge import Rouge"
   ]
  },
  {
   "cell_type": "code",
   "execution_count": 2,
   "metadata": {},
   "outputs": [],
   "source": [
    "import dsci_2022\n",
    "from dsci_2022.utils import *"
   ]
  },
  {
   "cell_type": "code",
   "execution_count": 3,
   "metadata": {},
   "outputs": [],
   "source": [
    "# with open(\"../data/labels.pkl\", \"rb\") as file:\n",
    "#     labels = pickle.load(file)\n",
    "    \n",
    "# show(labels)"
   ]
  },
  {
   "cell_type": "code",
   "execution_count": 4,
   "metadata": {},
   "outputs": [
    {
     "name": "stdout",
     "output_type": "stream",
     "text": [
      "(372564, 5)\n"
     ]
    },
    {
     "data": {
      "text/html": [
       "<div>\n",
       "<style scoped>\n",
       "    .dataframe tbody tr th:only-of-type {\n",
       "        vertical-align: middle;\n",
       "    }\n",
       "\n",
       "    .dataframe tbody tr th {\n",
       "        vertical-align: top;\n",
       "    }\n",
       "\n",
       "    .dataframe thead th {\n",
       "        text-align: right;\n",
       "    }\n",
       "</style>\n",
       "<table border=\"1\" class=\"dataframe\">\n",
       "  <thead>\n",
       "    <tr style=\"text-align: right;\">\n",
       "      <th></th>\n",
       "      <th>paper_id</th>\n",
       "      <th>sentence</th>\n",
       "      <th>text</th>\n",
       "      <th>sentence_score</th>\n",
       "      <th>in_summary</th>\n",
       "    </tr>\n",
       "  </thead>\n",
       "  <tbody>\n",
       "    <tr>\n",
       "      <th>0</th>\n",
       "      <td>0</td>\n",
       "      <td>0</td>\n",
       "      <td>Proceedings of the 56th Annual Meeting of the ...</td>\n",
       "      <td>NaN</td>\n",
       "      <td>False</td>\n",
       "    </tr>\n",
       "    <tr>\n",
       "      <th>1</th>\n",
       "      <td>0</td>\n",
       "      <td>1</td>\n",
       "      <td>Parsing has been useful for incorporating ling...</td>\n",
       "      <td>NaN</td>\n",
       "      <td>False</td>\n",
       "    </tr>\n",
       "    <tr>\n",
       "      <th>2</th>\n",
       "      <td>0</td>\n",
       "      <td>2</td>\n",
       "      <td>Neural network-based approaches relying on den...</td>\n",
       "      <td>NaN</td>\n",
       "      <td>False</td>\n",
       "    </tr>\n",
       "    <tr>\n",
       "      <th>3</th>\n",
       "      <td>0</td>\n",
       "      <td>3</td>\n",
       "      <td>Generally speaking, either these approaches pr...</td>\n",
       "      <td>NaN</td>\n",
       "      <td>False</td>\n",
       "    </tr>\n",
       "    <tr>\n",
       "      <th>4</th>\n",
       "      <td>0</td>\n",
       "      <td>4</td>\n",
       "      <td>Corresponding authors: yikang.shen@umontreal.c...</td>\n",
       "      <td>NaN</td>\n",
       "      <td>False</td>\n",
       "    </tr>\n",
       "  </tbody>\n",
       "</table>\n",
       "</div>"
      ],
      "text/plain": [
       "   paper_id  sentence                                               text  \\\n",
       "0         0         0  Proceedings of the 56th Annual Meeting of the ...   \n",
       "1         0         1  Parsing has been useful for incorporating ling...   \n",
       "2         0         2  Neural network-based approaches relying on den...   \n",
       "3         0         3  Generally speaking, either these approaches pr...   \n",
       "4         0         4  Corresponding authors: yikang.shen@umontreal.c...   \n",
       "\n",
       "  sentence_score  in_summary  \n",
       "0            NaN       False  \n",
       "1            NaN       False  \n",
       "2            NaN       False  \n",
       "3            NaN       False  \n",
       "4            NaN       False  "
      ]
     },
     "execution_count": 4,
     "metadata": {},
     "output_type": "execute_result"
    }
   ],
   "source": [
    "labels = pd.read_pickle(\"../data/labels.pkl\")\n",
    "show(labels)"
   ]
  },
  {
   "cell_type": "code",
   "execution_count": 5,
   "metadata": {},
   "outputs": [
    {
     "name": "stdout",
     "output_type": "stream",
     "text": [
      "Proceedings of the 56th Annual Meeting of the Association for Computational Linguistics (Long Papers), pages 1171–1180 Melbourne, Australia, July 15 - 20, 2018. c©2018 Association for Computational Linguistics 1171 Devising fast and accurate constituency parsing algorithms is an important, long-standing problem in natural language processing. Parsing has been useful for incorporating linguistic prior in several related tasks, such as relation extraction, paraphrase detection (Callison-Burch, 2008), and more recently, natural language inference (Bowman et al., 2016) and machine translation (Eriguchi et al., 2017). Neural network-based approaches relying on dense input representations have recently achieved competitive results for constituency parsing (Vinyals et al., 2015; Cross and Huang, 2016; Liu and Zhang, 2017b; Stern et al., 2017a). Generally speaking, either these approaches produce the parse tree sequentially, by governing ∗Equal contribution. Corresponding authors: yikang.shen@umontreal.ca, zhouhan.lin@umontreal.ca. †Work done while at Microsoft Research, Montreal. the sequence of transitions in a transition-based parser (Nivre, 2004; Zhu et al., 2013; Chen and Manning, 2014; Cross and Huang, 2016), or use a chart-based approach by estimating non-linear potentials and performing exact structured inference by dynamic programming (Finkel et al., 2008; Durrett and Klein, 2015; Stern et al., 2017a). Transition-based models decompose the structured prediction problem into a sequence of local decisions. This enables fast greedy decoding but also leads to compounding errors because the model is never exposed to its own mistakes during training (Daumé et al., 2009). Solutions to this problem usually complexify the training procedure by using structured training through beamsearch (Weiss et al., 2015; Andor et al., 2016) and dynamic oracles (Goldberg and Nivre, 2012; Cross and Huang, 2016). On the other hand, chartbased models can incorporate structured loss functions during training and benefit from exact inference via the CYK algorithm but suffer from higher computational cost during decoding (Durrett and Klein, 2015; Stern et al., 2017a). In this paper, we propose a novel, fully-parallel model for constituency parsing, based on the concept of “syntactic distance”, recently introduced by (Shen et al., 2017) for language modeling. To construct a parse tree from a sentence, one can proceed in a top-down manner, recursively splitting larger constituents into smaller constituents, where the order of the splits defines the hierarchical structure. The syntactic distances are defined for each possible split point in the sentence. The order induced by the syntactic distances fully specifies the order in which the sentence needs to be recursively split into smaller constituents (Figure 1): in case of a binary tree, there exists a oneto-one correspondence between the ordering and the tree. Therefore, our model is trained to reproduce the ordering between split points induced by the ground-truth distances by means of a margin rank loss (Weston et al., 2011). Crucially, our model works in parallel: the estimated distance for each split point is produced independently from the others, which allows for an easy parallelization in modern parallel computing architectures for deep learning, such as GPUs. Along with the distances, we also train the model to produce the constituent labels, which are used to build the fully labeled tree. Our model is fully parallel and thus does not require computationally expensive structured inference during training. Mapping from syntactic distances to a tree can be efficiently done in O(n log n), which makes the decoding computationally attractive. Despite our strong conditional independence assumption on the output predictions, we achieve good performance for single model discriminative parsing in PTB (91.8 F1) and CTB (86.5 F1) matching, and sometimes outperforming, recent chart-based and transition-based parsing models. In this section, we start from the concept of syntactic distance introduced in Shen et al. (2017) for unsupervised parsing via language modeling and we extend it to the supervised setting. We propose two algorithms, one to convert a parse tree into a compact representation based on distances between consecutive words, and another to map the inferred representation back to a complete parse tree. The representation will later be used for supervised training. We formally define the syntactic distances of a parse tree as follows: Algorithm 1 Binary Parse Tree to Distance (∪ represents the concatenation operator of lists) 1: function DISTANCE(node) 2: if node is leaf then 3: d← [] 4: c← [] 5: t← [node.tag] 6: h← 0 7: else 8: childl, childr ← children of node 9: dl, cl, tl, hl ← Distance(childl) 10: dr, cr, tr, hr ← Distance(childr) 11: h← max(hl, hr) + 1 12: d← dl ∪ [h] ∪ dr 13: c← cl ∪ [node.label] ∪ cr 14: t← tl ∪ tr 15: end if 16: return d, c, t, h 17: end function Definition 2.1. Let T be a parse tree that contains a set of leaves (w0, ..., wn). The height of the lowest common ancestor for two leaves (wi, wj) is noted as d̃ij . The syntactic distances of T can be any vector of scalars d = (d1, ..., dn) that satisfy: sign(di − dj) = sign(d̃i−1i − d̃ j−1 j ) (1) In other words, d induces the same ranking order as the quantities d̃ji computed between pairs of consecutive words in the sequence, i.e. (d̃01, ..., d̃ n−1 n ). Note that there are n − 1 syntactic distances for a sentence of length n. Example 2.1. Consider the tree in Fig. 1 for which d̃01 = 2, d̃ 1 2 = 1. An example of valid syntactic distances for this tree is any d = (d1, d2) such that d1 > d2. Given this definition, the parsing model predicts a sequence of scalars, which is a more natural setting for models based on neural networks, rather than predicting a set of spans. For comparison, in most of the current neural parsing methods, the model needs to output a sequence of transitions (Cross and Huang, 2016; Chen and Manning, 2014). Let us first consider the case of a binary parse tree. Algorithm 1 provides a way to convert it to a tuple (d, c, t), where d contains the height of the inner nodes in the tree following a left-to-right (in order) traversal, c the constituent labels for each node in the same order and t the part-of-speech Algorithm 2 Distance to Binary Parse Tree 1: function TREE(d,c,t) 2: if d = [] then 3: node← Leaf(t) 4: else 5: i← argmaxi(d) 6: childl ← Tree(d<i, c<i, t<i) 7: childr ← Tree(d>i, c>i, t≥i) 8: node← Node(childl, childr, ci) 9: end if 10: return node 11: end function (POS) tags of each word in the left-to-right order. d is a valid vector of syntactic distances satisfying Definition 2.1. Once a model has learned to predict these variables, Algorithm 2 can reconstruct a unique binary tree from the output of the model (d̂, ĉ, t̂). The idea in Algorithm 2 is similar to the top-down parsing method proposed by Stern et al. (2017a), but differs in one key aspect: at each recursive call, there is no need to estimate the confidence for every split point. The algorithm simply chooses the split point i with the maximum d̂i, and assigns to the span the predicted label ĉi. This makes the running time of our algorithm to be inO(n log n), compared to theO(n2) of the greedy top-down algorithm by (Stern et al., 2017a). Figure 2 shows an example of the reconstruction of parse tree. Alternatively, the tree reconstruction process can also be done in a bottom-up manner, which requires the recursive composition of adjacent spans according to the ranking induced by their syntactic distance, a process akin to agglomerative clustering. One potential issue is the existence of unary and n-ary nodes. We follow the method proposed by Stern et al. (2017a) and add a special empty label ∅ to spans that are not themselves full constituents but simply arise during the course of implicit binarization. For the unary nodes that contains one nonterminal node, we take the common approach of treating these as additional atomic labels alongside all elementary nonterminals (Stern et al., 2017a). For all terminal nodes, we determine whether it belongs to a unary chain or not by predicting an additional label. If it is predicted with a label different from the empty label, we conclude that it is a direct child of a unary constituent with that label. Otherwise if it is predicted to have an empty label, we conclude that it is a child of a bigger constituent which has other constituents or words as its siblings. An n-ary node can arbitrarily be split into binary nodes. We choose to use the leftmost split point. The split point may also be chosen based on model prediction during training. Recovering an n-ary parse tree from the predicted binary tree simply requires removing the empty nodes and split combined labels corresponding to unary chains. Algorithm 2 is a divide-and-conquer algorithm. The running time of this procedure is O(n log n). However, the algorithm is naturally adapted for execution in a parallel environment, which can further reduce its running time to O(log n). We use neural networks to estimate the vector of syntactic distances for a given sentence. We use a modified hinge loss, where the target distances are generated by the tree-to-distance conversion given by Algorithm 1. Section 3.1 will describe in detail the model architecture, and Section 3.2 describes the loss we use in this setting. Given input words w = (w0, w1, ..., wn), we predict the tuple (d, c, t). The POS tags t are given by an external Part-Of-Speech (POS) tagger. The syntactic distances d and constituent labels c are predicted using a neural network architecture that stacks recurrent (LSTM (Hochreiter and Schmidhuber, 1997)) and convolutional layers. Words and tags are first mapped to sequences of embeddings ew0 , ..., e w n and e t 0, ..., e t n. Then the word embeddings and the tag embeddings are concatenated together as inputs for a stack of bidirectional LSTM layers: hw0 , ...,h w n = BiLSTMw([e w 0 , e t 0], ..., [e w n , e t n]) (2) where BiLSTMw(·) is the word-level bidirectional layer, which gives the model enough capacity to capture long-term syntactical relations between words. To predict the constituent labels for each word, we pass the hidden states representations hw0 , ...,h w n through a 2-layer network FF w c , with softmax output: p(cwi |w) = softmax(FFwc (hwi )) (3) To compose the necessary information for inferring the syntactic distances and the constituency label information, we perform an additional convolution: gs1, . . . ,g s n = CONV(h w 0 , ...,h w n ) (4) where gsi can be seen as a draft representation for each split position in Algorithm 2. Note that the subscripts of gsi s start with 1, since we have n− 1 positions as non-terminal constituents. Then, we stack a bidirectional LSTM layer on top of gsi : hs1, ...,h s n = BiLSTMs(g s 1, . . . ,g s n) (5) where BiLSTMs fine-tunes the representation by conditioning on other split position representations. Interleaving between LSTM and convolution layers turned out empirically to be the best choice over multiple variations of the model, including using self-attention (Vaswani et al., 2017) instead of LSTM. To calculate the syntactic distances for each position, the vectors hs1, . . . ,h s n are transformed through a 2-layer feed-forward network FFd with a single output unit (this can be done in parallel with 1x1 convolutions), with no activation function at the output layer: d̂i = FFd(hsi ), (6) For predicting the constituent labels, we pass the same representations hs1, . . . ,h s n through another 2-layer network FFsc, with softmax output. p(csi |w) = softmax(FFsc(hsi)) (7) The overall architecture is shown in Figure 2a. Since the output (d, c, t) can be unambiguously transfered to a unique parse tree, the model implicitly makes all parsing decisions inside the recurrent and convolutional layers. Given a set of training examples D = {〈dk, ck, tk,wk〉}Kk=1, the training objective is the sum of the prediction losses of syntactic distances dk and constituent labels ck. Due to the categorical nature of variable c, we use a standard softmax classifier with a crossentropy loss Llabel for constituent labels, using the estimated probabilities obtained in Eq. 3 and 7. A naïve loss function for estimating syntactic distances is the mean-squared error (MSE): Lmsedist = ∑ i (di − d̂i)2 (8) The MSE loss forces the model to regress on the exact value of the true distances. Given that only the ranking induced by the ground-truth distances in d is important, as opposed to the absolute values themselves, using an MSE loss over-penalizes the model by ignoring ranking equivalence between different predictions. Therefore, we propose to minimize a pair-wise learning-to-rank loss, similar to those proposed in (Burges et al., 2005). We define our loss as a variant of the hinge loss as: Lrankdist = ∑ i,j>i [1− sign(di − dj)(d̂i − d̂j)]+, (9) where [x]+ is defined as max(0, x). This loss encourages the model to reproduce the full ranking order induced by the ground-truth distances. The final loss for the overall model is just the sum of individual losses L = Llabel + Lrankdist . We evaluate our model described above on 2 different datasets, the standard Wall Street Journal (WSJ) part of the Penn Treebank (PTB) dataset, and the Chinese Treebank (CTB) dataset. For evaluating the F1 score, we use the standard evalb1 tool. We provide both labeled and unlabeled F1 score, where the former takes into consideration the constituent label for each predicted 1http://nlp.cs.nyu.edu/evalb/ constituent, while the latter only considers the position of the constituents. In the tables below, we report the labeled F1 scores for comparison with previous work, as this is the standard metric usually reported in the relevant literature. For the PTB experiments, we follow the standard train/valid/test separation and use sections 2-21 for training, section 22 for development and section 23 for test set. Following this split, the dataset has 45K training sentences and 1700, 2416 sentences for valid/test respectively. The placeholders with the -NONE- tag are stripped from the dataset during preprocessing. The POS tags are predicted with the Stanford Tagger (Toutanova et al., 2003). We use a hidden size of 1200 for each direction on all LSTMs, with 0.3 dropout in all the feedforward connections, and 0.2 recurrent connection dropout (Merity et al., 2017). The convolutional filter size is 2. The number of convolutional channels is 1200. As a common practice for neural network based NLP models, the embedding layer that maps word indexes to word embeddings is randomly initialized. The word embeddings are sized 400. Following (Merity et al., 2017), we randomly swap an input word embedding during training with the zero vector with probability of 0.1. We found this helped the model to generalize better. Training is conducted with Adam algorithm with l2 regularization decay 1 × 10−6. We pick the result obtaining the highest labeled F1 on the validation set, and report the corresponding test F1, together with other statistics. We report our results in Table 1. Our best model obtains a labeled F1 score of 91.8 on the test set (Table 1). Detailed dev/test set performances, including label accuracy is reported in Table 3. Our model performs achieves good performance for single-model constituency parsing trained without external data. The best result from (Stern et al., 2017b) is obtained by a generative model. Very recently, we came to knowledge of Gaddy et al. (2018), which uses character-level LSTM features coupled with chart-based parsing to improve performance. Similar sub-word features can be also used in our model. We leave this investigation for future works. For comparison, other models obtaining better scores either use ensembles, benefit from semi-supervised learning, or recur to re-ranking of a set of candidates. We use the Chinese Treebank 5.1 dataset, with articles 001-270 and 440-1151 for training, articles 301-325 as development set, and articles 271-300 for test set. This is a standard split in the literature (Liu and Zhang, 2017b). The -NONE- tags are stripped as well. The hidden size for the LSTM networks is set to 1200. We use a dropout rate of 0.4 on the feed-forward connections, and 0.1 recurrent connection dropout. The convolutional layer has 1200 channels, with a filter size of 2. We use 400 dimensional word embeddings. During training, input word embeddings are randomly swapped with the zero vector with probability of 0.1. We also apply a l2 regularization weighted by 1×10−6 on the parameters of the network. Table 2 reports our results compared to other benchmarks. To the best of our knowledge, we set a new stateof-the-art for single-model parsing achieving 86.5 F1 on the test set. The detailed statistics are shown in Table 3. We perform an ablation study by removing components from a network trained with the best set of hyperparameters, and re-train the ablated version from scratch. This gives an idea of the relative contributions of each of the components in the model. Results are reported in Table 4. It seems that the top LSTM layer has a relatively big impact on performance. This may give additional capacity to the model for capturing long-term dependencies useful for label prediction. We also exper- imented by using 300D GloVe (Pennington et al., 2014) embedding for the input layer but this didn’t yield improvements over the model’s best performance. Unsurprisingly, the model trained with MSE loss underperforms considerably a model trained with the rank loss. The prediction of syntactic distances can be batched in modern GPU architectures. The distance to tree conversion is a O(n log n) (n stand for the number of words in the input sentence) divide-and-conquer algorithm. We compare the parsing speed of our parser with other state-ofthe-art neural parsers in Table 5. As the syntactic distance computation can be performed in parallel within a GPU, we first compute the distances in a batch, then we iteratively decode the tree with Algorithm 2. It is worth to note that this comparison may be unfair since some of the reported results may use very different hardware settings. We couldn’t find the source code to re-run them on our hardware, to give a fair enough comparison. In our setting, we use an NVIDIA TITAN Xp graphics card for running the neural network part, and the distance to tree inference is run on an Intel Core i7-6850K CPU, with 3.60GHz clock speed. Parsing natural language with neural network models has recently received growing attention. These models have attained state-of-the-art results for dependency parsing (Chen and Manning, 2014) and constituency parsing (Dyer et al., 2016; Cross and Huang, 2016; Coavoux and Crabbé, 2016). Early work in neural network based parsing directly use a feed-forward neural network to predict parse trees (Chen and Manning, 2014). Vinyals et al. (2015) use a sequence-tosequence framework where the decoder outputs a linearized version of the parse tree given an input sentence. Generally, in these models, the correctness of the output tree is not strictly ensured (although empirically observed). Other parsing methods ensure structural consistency by operating in a transition-based setting (Chen and Manning, 2014) by parsing either in the top-down direction (Dyer et al., 2016; Liu and Zhang, 2017b), bottom-up (Zhu et al., 2013; Watanabe and Sumita, 2015; Cross and Huang, 2016) and recently in-order (Liu and Zhang, 2017a). Transition-based methods generally suffer from compounding errors due to exposure bias: during testing, the model is exposed to a very different regime (i.e. decisions sampled from the model itself) than what was encountered during training (i.e. the ground-truth decisions) (Daumé et al., 2009; Goldberg and Nivre, 2012). This can have catastrophic effects on test performance but can be mitigated to a certain extent by using beamsearch instead of greedy decoding. (Stern et al., 2017b) proposes an effective inference method for generative parsing, which enables direct decoding in those models. More complex training methods have been devised in order to alleviate this problem (Goldberg and Nivre, 2012; Cross and Huang, 2016). Other efforts have been put into neural chart-based parsing (Durrett and Klein, 2015; Stern et al., 2017a) which ensure structural consistency and offer exact inference with CYK algorithm. (Gaddy et al., 2018) includes a simplified CYK-style inference, but the complexity still remains in O(n3). In this work, our model learns to produce a particular representation of a tree in parallel. Representations can be computed in parallel, and the conversion from representation to a full tree can efficiently be done with a divide-and-conquer algorithm. As our model outputs decisions in parallel, our model doesn’t suffer from the exposure bias. Interestingly, a series of recent works, both in machine translation (Gu et al., 2018) and speech synthesis (Oord et al., 2017), considered the sequence of output variables conditionally independent given the inputs. We presented a novel constituency parsing scheme based on predicting real-valued scalars, named syntactic distances, whose ordering identify the sequence of top-down split decisions. We employ a neural network model that predicts the distances d and the constituent labels c. Given the algorithms presented in Section 2, we can build an unambiguous mapping between each (d, c, t) and a parse tree. One peculiar aspect of our model is that it predicts split decisions in parallel. Our experiments show that our model can achieve strong performance compare to previous models, while being significantly more efficient. Since the architecture of model is no more than a stack of standard recurrent and convolution layers, which are essential components in most academic and industrial deep learning frameworks, the deployment of this method would be straightforward. The authors would like to thank Compute Canada for providing the computational resources. The authors would also like to thank Jackie Chi Kit Cheung for the helpful discussions. Zhouhan Lin would like to thank AdeptMind for generously supporting his research via scholarship. \n"
     ]
    }
   ],
   "source": [
    "example_raw = labels.query(\"paper_id == 0\")\\\n",
    ".sort_values(\"sentence\")\\\n",
    ".text.map(lambda x: re.sub(r\"\\s\", \" \", x) + \" \").sum()\n",
    "print(example_raw)"
   ]
  },
  {
   "cell_type": "code",
   "execution_count": 6,
   "metadata": {},
   "outputs": [
    {
     "name": "stdout",
     "output_type": "stream",
     "text": [
      "3635\n"
     ]
    },
    {
     "data": {
      "text/plain": [
       "[('Proceedings', 0.5),\n",
       " ('of', 0.5086421904134987),\n",
       " ('the', 0.5172817987813012),\n",
       " ('56th', 0.5259162438291546),\n",
       " ('Annual', 0.534542945825462),\n",
       " ('Meeting', 0.5431593273520349),\n",
       " ('of', 0.5517628140741532),\n",
       " ('the', 0.5603508355097054),\n",
       " ('Association', 0.5689208257971765),\n",
       " ('for', 0.5774702244622562)]"
      ]
     },
     "execution_count": 6,
     "metadata": {},
     "output_type": "execute_result"
    },
    {
     "data": {
      "image/png": "[encoded data removed]",
      "text/plain": [
       "<Figure size 432x288 with 1 Axes>"
      ]
     },
     "metadata": {
      "needs_background": "light"
     },
     "output_type": "display_data"
    }
   ],
   "source": [
    "example = [\n",
    "    (w, 0.5 + math.sin(10 * 2 * math.pi * i / len(example_raw.split(\" \"))) / 2) \n",
    "    for i, w in enumerate(example_raw.split(\" \"))\n",
    "]\n",
    "print(len(example))\n",
    "plt.plot([s for w, s in example])\n",
    "example[:10]"
   ]
  },
  {
   "cell_type": "code",
   "execution_count": 7,
   "metadata": {
    "scrolled": false
   },
   "outputs": [
    {
     "name": "stdout",
     "output_type": "stream",
     "text": [
      "[108, 109, 108, 109, 108, 109, 108, 109, 108, 109]\n"
     ]
    },
    {
     "data": {
      "text/plain": [
       "[('important,', 0.805308384784835),\n",
       " ('long-standing', 0.8121067532766586),\n",
       " ('problem', 0.8188118729669054),\n",
       " ('in', 0.8254217405526382),\n",
       " ('natural', 0.8319343811895946),\n",
       " ('language', 0.8383478490822156),\n",
       " ('processing.', 0.8446602280649946),\n",
       " ('Parsing', 0.8508696321749751),\n",
       " ('has', 0.8569742062152228),\n",
       " ('been', 0.8629721263091079)]"
      ]
     },
     "execution_count": 7,
     "metadata": {},
     "output_type": "execute_result"
    }
   ],
   "source": [
    "importlib.reload(dsci_2022.utils)\n",
    "spans = dsci_2022.utils.extract_spans(example, 0.8)\n",
    "print([len(l) for l in spans])\n",
    "spans[0][:10]"
   ]
  },
  {
   "cell_type": "code",
   "execution_count": 8,
   "metadata": {},
   "outputs": [
    {
     "name": "stdout",
     "output_type": "stream",
     "text": [
      "important, long-standing problem in natural language processing. Parsing has been useful for incorporating linguistic prior in several related tasks, such as relation extraction, paraphrase detection (Callison-Burch, 2008), and more recently, natural language inference (Bowman et al., 2016) and machine translation (Eriguchi et al., 2017). Neural network-based approaches relying on dense input representations have recently achieved competitive results for constituency parsing (Vinyals et al., 2015; Cross and Huang, 2016; Liu and Zhang, 2017b; Stern et al., 2017a). Generally speaking, either these approaches produce the parse tree sequentially, by governing ∗Equal contribution. Corresponding authors: yikang.shen@umontreal.ca, zhouhan.lin@umontreal.ca. †Work done while at Microsoft Research, Montreal. the sequence of transitions in a transition-based\n",
      "\n",
      "in case of a binary tree, there exists a oneto-one correspondence between the ordering and the tree. Therefore, our model is trained to reproduce the ordering between split points induced by the ground-truth distances by means of a margin rank loss (Weston et al., 2011). Crucially, our model works in parallel: the estimated distance for each split point is produced independently from the others, which allows for an easy parallelization in modern parallel computing architectures for deep learning, such as GPUs. Along with the distances, we also train the model to produce the constituent labels, which are used to build the fully labeled tree. Our model is fully parallel\n",
      "\n",
      "parse tree that contains a set of leaves (w0, ..., wn). The height of the lowest common ancestor for two leaves (wi, wj) is noted as d̃ij . The syntactic distances of T can be any vector of scalars d = (d1, ..., dn) that satisfy: sign(di − dj) = sign(d̃i−1i − d̃ j−1 j ) (1) In other words, d induces the same ranking order as the quantities d̃ji computed between pairs of consecutive words in the sequence, i.e. (d̃01, ..., d̃ n−1 n ). Note that there are n − 1 syntactic distances for a sentence of length n. Example 2.1. Consider the tree in Fig.\n",
      "\n",
      "by Stern et al. (2017a), but differs in one key aspect: at each recursive call, there is no need to estimate the confidence for every split point. The algorithm simply chooses the split point i with the maximum d̂i, and assigns to the span the predicted label ĉi. This makes the running time of our algorithm to be inO(n log n), compared to theO(n2) of the greedy top-down algorithm by (Stern et al., 2017a). Figure 2 shows an example of the reconstruction of parse tree. Alternatively, the tree reconstruction process can also be done in a bottom-up manner, which requires the recursive composition of adjacent spans according to the\n",
      "\n",
      "n). We use neural networks to estimate the vector of syntactic distances for a given sentence. We use a modified hinge loss, where the target distances are generated by the tree-to-distance conversion given by Algorithm 1. Section 3.1 will describe in detail the model architecture, and Section 3.2 describes the loss we use in this setting. Given input words w = (w0, w1, ..., wn), we predict the tuple (d, c, t). The POS tags t are given by an external Part-Of-Speech (POS) tagger. The syntactic distances d and constituent labels c are predicted using a neural network architecture that stacks recurrent (LSTM (Hochreiter and Schmidhuber, 1997)) and\n",
      "\n",
      "model, including using self-attention (Vaswani et al., 2017) instead of LSTM. To calculate the syntactic distances for each position, the vectors hs1, . . . ,h s n are transformed through a 2-layer feed-forward network FFd with a single output unit (this can be done in parallel with 1x1 convolutions), with no activation function at the output layer: d̂i = FFd(hsi ), (6) For predicting the constituent labels, we pass the same representations hs1, . . . ,h s n through another 2-layer network FFsc, with softmax output. p(csi |w) = softmax(FFsc(hsi)) (7) The overall architecture is shown in Figure 2a. Since the output (d, c, t) can be\n",
      "\n",
      "the Penn Treebank (PTB) dataset, and the Chinese Treebank (CTB) dataset. For evaluating the F1 score, we use the standard evalb1 tool. We provide both labeled and unlabeled F1 score, where the former takes into consideration the constituent label for each predicted 1http://nlp.cs.nyu.edu/evalb/ constituent, while the latter only considers the position of the constituents. In the tables below, we report the labeled F1 scores for comparison with previous work, as this is the standard metric usually reported in the relevant literature. For the PTB experiments, we follow the standard train/valid/test separation and use sections 2-21 for training, section 22 for development and section 23 for test set. Following\n",
      "\n",
      "uses character-level LSTM features coupled with chart-based parsing to improve performance. Similar sub-word features can be also used in our model. We leave this investigation for future works. For comparison, other models obtaining better scores either use ensembles, benefit from semi-supervised learning, or recur to re-ranking of a set of candidates. We use the Chinese Treebank 5.1 dataset, with articles 001-270 and 440-1151 for training, articles 301-325 as development set, and articles 271-300 for test set. This is a standard split in the literature (Liu and Zhang, 2017b). The -NONE- tags are stripped as well. The hidden size for the LSTM networks is set to 1200. We use a\n",
      "\n",
      "We compare the parsing speed of our parser with other state-ofthe-art neural parsers in Table 5. As the syntactic distance computation can be performed in parallel within a GPU, we first compute the distances in a batch, then we iteratively decode the tree with Algorithm 2. It is worth to note that this comparison may be unfair since some of the reported results may use very different hardware settings. We couldn’t find the source code to re-run them on our hardware, to give a fair enough comparison. In our setting, we use an NVIDIA TITAN Xp graphics card for running the neural network part, and the distance to\n",
      "\n",
      "More complex training methods have been devised in order to alleviate this problem (Goldberg and Nivre, 2012; Cross and Huang, 2016). Other efforts have been put into neural chart-based parsing (Durrett and Klein, 2015; Stern et al., 2017a) which ensure structural consistency and offer exact inference with CYK algorithm. (Gaddy et al., 2018) includes a simplified CYK-style inference, but the complexity still remains in O(n3). In this work, our model learns to produce a particular representation of a tree in parallel. Representations can be computed in parallel, and the conversion from representation to a full tree can efficiently be done with a divide-and-conquer algorithm. As our model outputs decisions\n"
     ]
    }
   ],
   "source": [
    "importlib.reload(dsci_2022.utils)\n",
    "summary = dsci_2022.utils.produce_summary(\n",
    "    spans, \n",
    "    summary_separator = \"\\n\\n\"\n",
    "#     summary_separator = \"\\n---\\n\"\n",
    ")\n",
    "print(summary)"
   ]
  },
  {
   "cell_type": "code",
   "execution_count": 9,
   "metadata": {},
   "outputs": [
    {
     "data": {
      "text/plain": [
       "([6759, 5898], [6044, 5183])"
      ]
     },
     "execution_count": 9,
     "metadata": {},
     "output_type": "execute_result"
    }
   ],
   "source": [
    "ref_1 = summary\n",
    "hyp_1 = \"\\n\\n\".join(summary.split(\"\\n\\n\")[:-1])\n",
    "ref_2 = \"\\n\\n\".join(summary.split(\"\\n\\n\")[1:])\n",
    "hyp_2 = \"\\n\\n\".join(summary.split(\"\\n\\n\")[1:-1])\n",
    "\n",
    "refs = [ref_1, ref_2]\n",
    "hyps = [hyp_1, hyp_2]\n",
    "\n",
    "[len(s) for s in refs], [len(s) for s in hyps]"
   ]
  },
  {
   "cell_type": "code",
   "execution_count": 10,
   "metadata": {},
   "outputs": [
    {
     "data": {
      "text/plain": [
       "[{'rouge-1': {'r': 0.9271402550091075, 'p': 1.0, 'f': 0.9621928116423076},\n",
       "  'rouge-2': {'r': 0.9071428571428571, 'p': 1.0, 'f': 0.9513108564350743},\n",
       "  'rouge-l': {'r': 0.9271402550091075, 'p': 1.0, 'f': 0.9621928116423076}},\n",
       " {'rouge-1': {'r': 0.9016393442622951, 'p': 1.0, 'f': 0.9482758570823425},\n",
       "  'rouge-2': {'r': 0.8946772366930917, 'p': 1.0, 'f': 0.9444112323137172},\n",
       "  'rouge-l': {'r': 0.9016393442622951, 'p': 1.0, 'f': 0.9482758570823425}}]"
      ]
     },
     "execution_count": 10,
     "metadata": {},
     "output_type": "execute_result"
    }
   ],
   "source": [
    "rouge = Rouge()\n",
    "scores = rouge.get_scores(hyps = hyps, refs = refs)\n",
    "scores"
   ]
  },
  {
   "cell_type": "code",
   "execution_count": 11,
   "metadata": {},
   "outputs": [
    {
     "data": {
      "text/html": [
       "<div>\n",
       "<style scoped>\n",
       "    .dataframe tbody tr th:only-of-type {\n",
       "        vertical-align: middle;\n",
       "    }\n",
       "\n",
       "    .dataframe tbody tr th {\n",
       "        vertical-align: top;\n",
       "    }\n",
       "\n",
       "    .dataframe thead th {\n",
       "        text-align: right;\n",
       "    }\n",
       "</style>\n",
       "<table border=\"1\" class=\"dataframe\">\n",
       "  <thead>\n",
       "    <tr style=\"text-align: right;\">\n",
       "      <th></th>\n",
       "      <th>example</th>\n",
       "      <th>metric</th>\n",
       "      <th>f-measure</th>\n",
       "      <th>precision</th>\n",
       "      <th>recall</th>\n",
       "    </tr>\n",
       "  </thead>\n",
       "  <tbody>\n",
       "    <tr>\n",
       "      <th>0</th>\n",
       "      <td>0</td>\n",
       "      <td>rouge-1</td>\n",
       "      <td>0.962193</td>\n",
       "      <td>1.0</td>\n",
       "      <td>0.927140</td>\n",
       "    </tr>\n",
       "    <tr>\n",
       "      <th>1</th>\n",
       "      <td>0</td>\n",
       "      <td>rouge-2</td>\n",
       "      <td>0.951311</td>\n",
       "      <td>1.0</td>\n",
       "      <td>0.907143</td>\n",
       "    </tr>\n",
       "    <tr>\n",
       "      <th>2</th>\n",
       "      <td>0</td>\n",
       "      <td>rouge-l</td>\n",
       "      <td>0.962193</td>\n",
       "      <td>1.0</td>\n",
       "      <td>0.927140</td>\n",
       "    </tr>\n",
       "    <tr>\n",
       "      <th>3</th>\n",
       "      <td>1</td>\n",
       "      <td>rouge-1</td>\n",
       "      <td>0.948276</td>\n",
       "      <td>1.0</td>\n",
       "      <td>0.901639</td>\n",
       "    </tr>\n",
       "    <tr>\n",
       "      <th>4</th>\n",
       "      <td>1</td>\n",
       "      <td>rouge-2</td>\n",
       "      <td>0.944411</td>\n",
       "      <td>1.0</td>\n",
       "      <td>0.894677</td>\n",
       "    </tr>\n",
       "    <tr>\n",
       "      <th>5</th>\n",
       "      <td>1</td>\n",
       "      <td>rouge-l</td>\n",
       "      <td>0.948276</td>\n",
       "      <td>1.0</td>\n",
       "      <td>0.901639</td>\n",
       "    </tr>\n",
       "  </tbody>\n",
       "</table>\n",
       "</div>"
      ],
      "text/plain": [
       "   example   metric  f-measure  precision    recall\n",
       "0        0  rouge-1   0.962193        1.0  0.927140\n",
       "1        0  rouge-2   0.951311        1.0  0.907143\n",
       "2        0  rouge-l   0.962193        1.0  0.927140\n",
       "3        1  rouge-1   0.948276        1.0  0.901639\n",
       "4        1  rouge-2   0.944411        1.0  0.894677\n",
       "5        1  rouge-l   0.948276        1.0  0.901639"
      ]
     },
     "execution_count": 11,
     "metadata": {},
     "output_type": "execute_result"
    }
   ],
   "source": [
    "importlib.reload(dsci_2022)\n",
    "importlib.reload(dsci_2022.metrics)\n",
    "\n",
    "results = dsci_2022.metrics.compute_rouge(refs, hyps)\n",
    "results"
   ]
  },
  {
   "cell_type": "code",
   "execution_count": 13,
   "metadata": {},
   "outputs": [
    {
     "data": {
      "text/html": [
       "<div>\n",
       "<style scoped>\n",
       "    .dataframe tbody tr th:only-of-type {\n",
       "        vertical-align: middle;\n",
       "    }\n",
       "\n",
       "    .dataframe tbody tr th {\n",
       "        vertical-align: top;\n",
       "    }\n",
       "\n",
       "    .dataframe thead th {\n",
       "        text-align: right;\n",
       "    }\n",
       "</style>\n",
       "<table border=\"1\" class=\"dataframe\">\n",
       "  <thead>\n",
       "    <tr style=\"text-align: right;\">\n",
       "      <th></th>\n",
       "      <th>example</th>\n",
       "      <th>f-measure</th>\n",
       "      <th>precision</th>\n",
       "      <th>recall</th>\n",
       "    </tr>\n",
       "    <tr>\n",
       "      <th>metric</th>\n",
       "      <th></th>\n",
       "      <th></th>\n",
       "      <th></th>\n",
       "      <th></th>\n",
       "    </tr>\n",
       "  </thead>\n",
       "  <tbody>\n",
       "    <tr>\n",
       "      <th>rouge-1</th>\n",
       "      <td>0.5</td>\n",
       "      <td>0.955234</td>\n",
       "      <td>1.0</td>\n",
       "      <td>0.91439</td>\n",
       "    </tr>\n",
       "    <tr>\n",
       "      <th>rouge-2</th>\n",
       "      <td>0.5</td>\n",
       "      <td>0.947861</td>\n",
       "      <td>1.0</td>\n",
       "      <td>0.90091</td>\n",
       "    </tr>\n",
       "    <tr>\n",
       "      <th>rouge-l</th>\n",
       "      <td>0.5</td>\n",
       "      <td>0.955234</td>\n",
       "      <td>1.0</td>\n",
       "      <td>0.91439</td>\n",
       "    </tr>\n",
       "  </tbody>\n",
       "</table>\n",
       "</div>"
      ],
      "text/plain": [
       "         example  f-measure  precision   recall\n",
       "metric                                         \n",
       "rouge-1      0.5   0.955234        1.0  0.91439\n",
       "rouge-2      0.5   0.947861        1.0  0.90091\n",
       "rouge-l      0.5   0.955234        1.0  0.91439"
      ]
     },
     "execution_count": 13,
     "metadata": {},
     "output_type": "execute_result"
    }
   ],
   "source": [
    "results.groupby(\"metric\").mean()"
   ]
  },
  {
   "cell_type": "code",
   "execution_count": null,
   "metadata": {},
   "outputs": [],
   "source": []
  }
 ],
 "metadata": {
  "kernelspec": {
   "display_name": "Python 3 (ipykernel)",
   "language": "python",
   "name": "python3"
  },
  "language_info": {
   "codemirror_mode": {
    "name": "ipython",
    "version": 3
   },
   "file_extension": ".py",
   "mimetype": "text/x-python",
   "name": "python",
   "nbconvert_exporter": "python",
   "pygments_lexer": "ipython3",
   "version": "3.8.10"
  }
 },
 "nbformat": 4,
 "nbformat_minor": 4
}
