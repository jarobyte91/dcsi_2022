{
 "cells": [
  {
   "cell_type": "code",
   "execution_count": null,
   "metadata": {},
   "outputs": [],
   "source": [
    "!pip install -e dsci_2022"
   ]
  },
  {
   "cell_type": "code",
   "execution_count": 4,
   "metadata": {},
   "outputs": [],
   "source": [
    "import numpy as np\n",
    "import pandas as pd\n",
    "import matplotlib.pyplot as plt\n",
    "# import os\n",
    "# os.environ['TRANSFORMERS_OFFLINE'] = '1' # Indicating transformers for offline mode\n",
    "# from functools import partial\n",
    "from pathlib import Path\n",
    "from tokenizers import Tokenizer\n",
    "from transformers import AutoTokenizer, AutoModel\n",
    "import transformers\n",
    "# from transformers.models.auto.tokenization_auto import logger\n",
    "# import random\n",
    "import torch\n",
    "# import torchmetrics\n",
    "# import torch.nn as nn\n",
    "# from torch.utils import data\n",
    "# from torch.utils.data import Dataset, DataLoader, random_split\n",
    "# import pytorch_lightning as pl\n",
    "import importlib\n",
    "import re\n",
    "\n",
    "transformers.logging.set_verbosity_error()\n",
    "TRANSFORMER_CACHE = Path(\"../resources/transformer_cache\") # The cache location. Accessed when offline."
   ]
  },
  {
   "cell_type": "code",
   "execution_count": 5,
   "metadata": {},
   "outputs": [],
   "source": [
    "import dsci_2022\n",
    "from dsci_2022.utils import *"
   ]
  },
  {
   "cell_type": "markdown",
   "metadata": {},
   "source": [
    "#### Model"
   ]
  },
  {
   "cell_type": "code",
   "execution_count": 6,
   "metadata": {},
   "outputs": [
    {
     "name": "stderr",
     "output_type": "stream",
     "text": [
      "/home/amanjais/bd/ENV/lib/python3.9/site-packages/torchmetrics/utilities/prints.py:36: UserWarning: Metric `AUROC` will save all targets and predictions in buffer. For large datasets this may lead to large memory footprint.\n",
      "  warnings.warn(*args, **kwargs)\n",
      "/home/amanjais/bd/ENV/lib/python3.9/site-packages/pytorch_lightning/utilities/parsing.py:261: UserWarning: Attribute 'model' is an instance of `nn.Module` and is already saved during checkpointing. It is recommended to ignore them using `self.save_hyperparameters(ignore=['model'])`.\n",
      "  rank_zero_warn(\n"
     ]
    }
   ],
   "source": [
    "# This is required to initialize the backend-model (bert) which is a pretrained model.\n",
    "importlib.reload(dsci_2022.chunksumm)\n",
    "pretrained_model = AutoModel.from_pretrained('../resources/checkpoints/bert-base-uncased.pt')\n",
    "tokenizer = AutoTokenizer.from_pretrained('../resources/checkpoints/bert-base-uncased-tokenizer.pt')\n",
    "model = dsci_2022.chunksumm.CHUNKSUMM(model = pretrained_model)"
   ]
  },
  {
   "cell_type": "markdown",
   "metadata": {},
   "source": [
    "#### Load Checkpoints"
   ]
  },
  {
   "cell_type": "code",
   "execution_count": 4,
   "metadata": {},
   "outputs": [],
   "source": [
    "#loading model checkpoint\n",
    "first = torch.load('../resources/checkpoints/first.pt') # initial model\n",
    "second_40k = torch.load('../resources/checkpoints/second-40k.pt') # Traning with 40k sentences\n",
    "model.load_state_dict(second_40k) \n",
    "# model.cuda()\n",
    "model.enable_chunk = True"
   ]
  },
  {
   "cell_type": "code",
   "execution_count": null,
   "metadata": {},
   "outputs": [],
   "source": [
    "dsci_20"
   ]
  },
  {
   "cell_type": "code",
   "execution_count": null,
   "metadata": {},
   "outputs": [],
   "source": [
    "dsci_2022.chunksumm.SummDataModule"
   ]
  },
  {
   "cell_type": "markdown",
   "metadata": {},
   "source": [
    "### Inference"
   ]
  },
  {
   "cell_type": "code",
   "execution_count": 5,
   "metadata": {},
   "outputs": [],
   "source": [
    "importlib.reload(dsci_2022.chunksumm)\n",
    "\"This is a test\"\n",
    "batch_text = \"This is a test\"\n",
    "tokens, probs = dsci_2022.chunksumm.get_token_scores(model, tokenizer, batch_text)"
   ]
  },
  {
   "cell_type": "code",
   "execution_count": 6,
   "metadata": {},
   "outputs": [
    {
     "data": {
      "text/plain": [
       "torch.Size([1, 6])"
      ]
     },
     "execution_count": 6,
     "metadata": {},
     "output_type": "execute_result"
    }
   ],
   "source": [
    "tokens.shape # batch * tokens   "
   ]
  },
  {
   "cell_type": "code",
   "execution_count": 7,
   "metadata": {},
   "outputs": [
    {
     "data": {
      "text/plain": [
       "tensor([[0.0006, 0.0008, 0.0007, 0.0005, 0.0007, 0.0009]],\n",
       "       grad_fn=<SelectBackward0>)"
      ]
     },
     "execution_count": 7,
     "metadata": {},
     "output_type": "execute_result"
    }
   ],
   "source": [
    "probs[:,:,0] # batch * tokens * probability"
   ]
  },
  {
   "cell_type": "code",
   "execution_count": 8,
   "metadata": {},
   "outputs": [
    {
     "data": {
      "text/plain": [
       "tensor([[[5.7740e-04, 9.9942e-01],\n",
       "         [7.7118e-04, 9.9923e-01],\n",
       "         [6.7593e-04, 9.9932e-01],\n",
       "         [4.9304e-04, 9.9951e-01],\n",
       "         [6.7584e-04, 9.9932e-01],\n",
       "         [9.2531e-04, 9.9907e-01]]], grad_fn=<SoftmaxBackward0>)"
      ]
     },
     "execution_count": 8,
     "metadata": {},
     "output_type": "execute_result"
    }
   ],
   "source": [
    "probs"
   ]
  },
  {
   "cell_type": "code",
   "execution_count": 9,
   "metadata": {},
   "outputs": [
    {
     "data": {
      "text/plain": [
       "torch.Size([1, 6])"
      ]
     },
     "execution_count": 9,
     "metadata": {},
     "output_type": "execute_result"
    }
   ],
   "source": [
    "probs[:,:,0].shape"
   ]
  },
  {
   "cell_type": "markdown",
   "metadata": {},
   "source": [
    "# testing"
   ]
  },
  {
   "cell_type": "code",
   "execution_count": 10,
   "metadata": {},
   "outputs": [
    {
     "name": "stdout",
     "output_type": "stream",
     "text": [
      "(372564, 5)\n"
     ]
    },
    {
     "data": {
      "text/html": [
       "<div>\n",
       "<style scoped>\n",
       "    .dataframe tbody tr th:only-of-type {\n",
       "        vertical-align: middle;\n",
       "    }\n",
       "\n",
       "    .dataframe tbody tr th {\n",
       "        vertical-align: top;\n",
       "    }\n",
       "\n",
       "    .dataframe thead th {\n",
       "        text-align: right;\n",
       "    }\n",
       "</style>\n",
       "<table border=\"1\" class=\"dataframe\">\n",
       "  <thead>\n",
       "    <tr style=\"text-align: right;\">\n",
       "      <th></th>\n",
       "      <th>paper_id</th>\n",
       "      <th>sentence</th>\n",
       "      <th>text</th>\n",
       "      <th>sentence_score</th>\n",
       "      <th>in_summary</th>\n",
       "    </tr>\n",
       "  </thead>\n",
       "  <tbody>\n",
       "    <tr>\n",
       "      <th>0</th>\n",
       "      <td>0</td>\n",
       "      <td>0</td>\n",
       "      <td>Proceedings of the 56th Annual Meeting of the ...</td>\n",
       "      <td>NaN</td>\n",
       "      <td>False</td>\n",
       "    </tr>\n",
       "    <tr>\n",
       "      <th>1</th>\n",
       "      <td>0</td>\n",
       "      <td>1</td>\n",
       "      <td>Parsing has been useful for incorporating ling...</td>\n",
       "      <td>NaN</td>\n",
       "      <td>False</td>\n",
       "    </tr>\n",
       "    <tr>\n",
       "      <th>2</th>\n",
       "      <td>0</td>\n",
       "      <td>2</td>\n",
       "      <td>Neural network-based approaches relying on den...</td>\n",
       "      <td>NaN</td>\n",
       "      <td>False</td>\n",
       "    </tr>\n",
       "    <tr>\n",
       "      <th>3</th>\n",
       "      <td>0</td>\n",
       "      <td>3</td>\n",
       "      <td>Generally speaking, either these approaches pr...</td>\n",
       "      <td>NaN</td>\n",
       "      <td>False</td>\n",
       "    </tr>\n",
       "    <tr>\n",
       "      <th>4</th>\n",
       "      <td>0</td>\n",
       "      <td>4</td>\n",
       "      <td>Corresponding authors: yikang.shen@umontreal.c...</td>\n",
       "      <td>NaN</td>\n",
       "      <td>False</td>\n",
       "    </tr>\n",
       "  </tbody>\n",
       "</table>\n",
       "</div>"
      ],
      "text/plain": [
       "   paper_id  sentence                                               text  \\\n",
       "0         0         0  Proceedings of the 56th Annual Meeting of the ...   \n",
       "1         0         1  Parsing has been useful for incorporating ling...   \n",
       "2         0         2  Neural network-based approaches relying on den...   \n",
       "3         0         3  Generally speaking, either these approaches pr...   \n",
       "4         0         4  Corresponding authors: yikang.shen@umontreal.c...   \n",
       "\n",
       "  sentence_score  in_summary  \n",
       "0            NaN       False  \n",
       "1            NaN       False  \n",
       "2            NaN       False  \n",
       "3            NaN       False  \n",
       "4            NaN       False  "
      ]
     },
     "execution_count": 10,
     "metadata": {},
     "output_type": "execute_result"
    }
   ],
   "source": [
    "labels = pd.read_pickle(\"../data/labels.pkl\")\n",
    "show(labels)"
   ]
  },
  {
   "cell_type": "code",
   "execution_count": 11,
   "metadata": {},
   "outputs": [
    {
     "name": "stdout",
     "output_type": "stream",
     "text": [
      "22373\n",
      "Proceedings of the 56th Annual Meeting of the Association for Computational Linguistics (Long Papers), pages 1171–1180 Melbourne, Australia, July 15 - 20, 2018. c©2018 Association for Computational Linguistics\n",
      "1171\n",
      "Devising fast and accurate constituency parsing algorithms is an important, long-standing problem in natural language processing.\n",
      "Parsing has been useful for incorporating linguistic prior in several related tasks, such as relation extraction, paraphrase detection (Callison-Burch, 2008), and more recently, natural language inference (Bowman et al., 2016) and machine translation (Eriguchi et al., 2017).\n",
      "Neural network-based approaches relying on dense input representations have recently achieved competitive results for constituency parsing (Vinyals et al., 2015; Cross and Huang, 2016; Liu and Zhang, 2017b; Stern et al., 2017a).\n",
      "Generally speaking, either these approaches produce the parse tree sequentially, by governing\n",
      "∗Equal contribution.\n",
      "Corresponding authors: yikang.shen@umontreal.ca, zhouhan.lin@umontreal.ca.\n",
      "†Work done while at Microsoft Research, Montreal.\n",
      "the sequence of transitions in a transition-based parser (Nivre, 2004; Zhu et al., 2013; Chen and Manning, 2014; Cross and Huang, 2016), or use a chart-based approach by estimating non-linear potentials and performing exact structured inference by dynamic programming (Finkel et al., 2008; Durrett and Klein, 2015; Stern et al., 2017a).\n",
      "Transition-based models decompose the structured prediction problem into \n"
     ]
    }
   ],
   "source": [
    "example_raw = labels.query(\"paper_id == 0\")\\\n",
    ".sort_values(\"sentence\")\\\n",
    ".text.map(lambda x: x + \"\\n\").sum()\n",
    "\n",
    "print(len(example_raw))\n",
    "print(example_raw[:1500])"
   ]
  },
  {
   "cell_type": "code",
   "execution_count": 12,
   "metadata": {},
   "outputs": [
    {
     "name": "stdout",
     "output_type": "stream",
     "text": [
      "CPU times: user 11.9 s, sys: 1.18 s, total: 13.1 s\n",
      "Wall time: 11.9 s\n"
     ]
    },
    {
     "data": {
      "text/plain": [
       "(torch.Size([1, 5353]), torch.Size([1, 5353, 2]))"
      ]
     },
     "execution_count": 12,
     "metadata": {},
     "output_type": "execute_result"
    }
   ],
   "source": [
    "%%time\n",
    "\n",
    "importlib.reload(dsci_2022.chunksumm)\n",
    "tokens, probs = dsci_2022.chunksumm.get_token_scores(model, tokenizer, example_raw)\n",
    "tokens.shape, probs.shape\n",
    "# (torch.Size([1, 5353]), torch.Size([1, 512, 2])) is truncating the output"
   ]
  },
  {
   "cell_type": "code",
   "execution_count": 13,
   "metadata": {},
   "outputs": [
    {
     "data": {
      "text/plain": [
       "[(101, 3.446861956035718e-05),\n",
       " (8931, 1.0457250027684495e-05),\n",
       " (1997, 9.249171853298321e-06),\n",
       " (1996, 1.0250551895296667e-05),\n",
       " (29087, 7.202426331787137e-06)]"
      ]
     },
     "execution_count": 13,
     "metadata": {},
     "output_type": "execute_result"
    }
   ],
   "source": [
    "results = list(zip(tokens.squeeze().tolist(), probs[0, :, 0].tolist()))\n",
    "results[:5]"
   ]
  },
  {
   "cell_type": "code",
   "execution_count": 14,
   "metadata": {},
   "outputs": [
    {
     "data": {
      "text/plain": [
       "[<matplotlib.lines.Line2D at 0x145f8e61ddc0>]"
      ]
     },
     "execution_count": 14,
     "metadata": {},
     "output_type": "execute_result"
    },
    {
     "data": {
      "image/png": "[encoded data removed]",
      "text/plain": [
       "<Figure size 432x288 with 1 Axes>"
      ]
     },
     "metadata": {
      "needs_background": "light"
     },
     "output_type": "display_data"
    }
   ],
   "source": [
    "plt.plot([s for w, s in results])"
   ]
  },
  {
   "cell_type": "code",
   "execution_count": 15,
   "metadata": {},
   "outputs": [
    {
     "data": {
      "text/plain": [
       "count    5353.000000\n",
       "mean        0.001728\n",
       "std         0.002595\n",
       "min         0.000006\n",
       "0%          0.000006\n",
       "10%         0.000092\n",
       "20%         0.000283\n",
       "30%         0.000429\n",
       "40%         0.000609\n",
       "50%         0.000861\n",
       "60%         0.001211\n",
       "70%         0.001774\n",
       "80%         0.002595\n",
       "90%         0.004182\n",
       "100%        0.037382\n",
       "max         0.037382\n",
       "dtype: float64"
      ]
     },
     "execution_count": 15,
     "metadata": {},
     "output_type": "execute_result"
    }
   ],
   "source": [
    "pd.Series([s for w, s in results]).describe(np.linspace(0, 1, 11))"
   ]
  },
  {
   "cell_type": "code",
   "execution_count": 16,
   "metadata": {},
   "outputs": [
    {
     "name": "stdout",
     "output_type": "stream",
     "text": [
      "CPU times: user 4.05 ms, sys: 798 µs, total: 4.85 ms\n",
      "Wall time: 6.12 ms\n"
     ]
    },
    {
     "data": {
      "text/plain": [
       "[(0.018326123378106525,\n",
       "  'end function ( pos ) tags of each word in the left -'),\n",
       " (0.017931616077056296,\n",
       "  'easy parallelization in modern parallel computing architectures for deep learning,'),\n",
       " (0.015952431563554064, 'in modern gpu architectures.'),\n",
       " (0.01582790957763791, '10 :'),\n",
       " (0.015748022124171257, 'right order. d is'),\n",
       " (0.01569296489469707, 'return node 11 :'),\n",
       " (0.014809214975684881, 'more natural setting for models based on'),\n",
       " (0.014489921275526285, 'to -'),\n",
       " (0.01411837071646005, 'ci ) 9 :'),\n",
       " (0.013278688595164567, 'words in the input sentence ) divide -'),\n",
       " (0.012428981096794208, ') 8 :'),\n",
       " (0.01219220389612019, '##rs,'),\n",
       " (0.0118623748421669, 'conquer algorithm.'),\n",
       " (0.011633045195291439, 'node← node ( childl'),\n",
       " (0.010999273741617799, '2 :'),\n",
       " (0.010667683556675911, 'node in'),\n",
       " (0.010425901350875696, 'sequence of scala'),\n",
       " (0.010335774626582861, '1 :'),\n",
       " (0.009752318263053894, 'function tree ('),\n",
       " (0.009747159977753958, 'be batched'),\n",
       " (0.0095757309657832, 'such as gp'),\n",
       " (0.009435562882572412, ', 2014'),\n",
       " (0.009222533088177443, 'o ('),\n",
       " (0.009038078831508756, 'd,'),\n",
       " (0.008772453991696239, 'predicts'),\n",
       " (0.008765334729105234, 'us first'),\n",
       " (0.008691151160746813, 'n log'),\n",
       " (0.008681755280122161, 'direct child'),\n",
       " (0.008603286929428577, 'labels for'),\n",
       " (0.008339408319443464, 'c,'),\n",
       " (0.008247106336057186, 'vector of'),\n",
       " (0.008109655696898699, 'i with'),\n",
       " (0.007710921228863299, 'ci.'),\n",
       " (0.007564253639429808, 'arise during'),\n",
       " (0.007445025257766247, 'di,'),\n",
       " (0.007318155374377966, '3 :'),\n",
       " (0.007244051666930318, 'n )'),\n",
       " (0.007158290361985564, 'output of'),\n",
       " (0.007060159696266055, '7 :'),\n",
       " (0.005463662528200075, '##us.')]"
      ]
     },
     "execution_count": 16,
     "metadata": {},
     "output_type": "execute_result"
    }
   ],
   "source": [
    "%%time\n",
    "\n",
    "importlib.reload(dsci_2022.utils)\n",
    "spans = dsci_2022.utils.extract_spans(\n",
    "    results, \n",
    "    0.01,\n",
    "#     0.005,\n",
    ")\n",
    "# print([len(l) for l in spans])\n",
    "# spans[0][:10]\n",
    "\n",
    "tok_ids = [(sum([s for w, s in l]) / len(l), [w for w, s in l]) for l in spans]\n",
    "# print([len(l) for l in tok_ids])\n",
    "# tok_ids[:5]\n",
    "\n",
    "sorted([(s, tokenizer.decode(l)) for s, l in tok_ids], key = lambda x: x[0], reverse = True)"
   ]
  },
  {
   "cell_type": "code",
   "execution_count": 24,
   "metadata": {},
   "outputs": [
    {
     "name": "stdout",
     "output_type": "stream",
     "text": [
      "CPU times: user 5.32 ms, sys: 1.06 ms, total: 6.39 ms\n",
      "Wall time: 8.1 ms\n"
     ]
    },
    {
     "data": {
      "text/plain": [
       "[(0.018326123378106525,\n",
       "  'end function ( pos ) tags of each word in the left -'),\n",
       " (0.017931616077056296,\n",
       "  'easy parallelization in modern parallel computing architectures for deep learning,'),\n",
       " (0.015952431563554064, 'in modern gpu architectures.'),\n",
       " (0.01582790957763791, '10 :'),\n",
       " (0.015748022124171257, 'right order. d is'),\n",
       " (0.01569296489469707, 'return node 11 :'),\n",
       " (0.014809214975684881, 'more natural setting for models based on'),\n",
       " (0.014489921275526285, 'to -'),\n",
       " (0.01411837071646005, 'ci ) 9 :'),\n",
       " (0.013278688595164567, 'words in the input sentence ) divide -'),\n",
       " (0.012428981096794208, ') 8 :'),\n",
       " (0.01219220389612019, '##rs,'),\n",
       " (0.0118623748421669, 'conquer algorithm.'),\n",
       " (0.011633045195291439, 'node← node ( childl'),\n",
       " (0.010999273741617799, '2 :'),\n",
       " (0.010667683556675911, 'node in'),\n",
       " (0.010425901350875696, 'sequence of scala'),\n",
       " (0.010335774626582861, '1 :'),\n",
       " (0.009752318263053894, 'function tree ('),\n",
       " (0.009747159977753958, 'be batched'),\n",
       " (0.0095757309657832, 'such as gp'),\n",
       " (0.009435562882572412, ', 2014'),\n",
       " (0.009222533088177443, 'o ('),\n",
       " (0.009038078831508756, 'd,'),\n",
       " (0.008772453991696239, 'predicts'),\n",
       " (0.008765334729105234, 'us first'),\n",
       " (0.008691151160746813, 'n log'),\n",
       " (0.008681755280122161, 'direct child'),\n",
       " (0.008603286929428577, 'labels for'),\n",
       " (0.008339408319443464, 'c,'),\n",
       " (0.008247106336057186, 'vector of'),\n",
       " (0.008109655696898699, 'i with'),\n",
       " (0.007710921228863299, 'ci.'),\n",
       " (0.007564253639429808, 'arise during'),\n",
       " (0.007445025257766247, 'di,'),\n",
       " (0.007318155374377966, '3 :'),\n",
       " (0.007244051666930318, 'n )'),\n",
       " (0.007158290361985564, 'output of'),\n",
       " (0.007060159696266055, '7 :'),\n",
       " (0.005463662528200075, '##us.')]"
      ]
     },
     "execution_count": 24,
     "metadata": {},
     "output_type": "execute_result"
    }
   ],
   "source": [
    "%%time\n",
    "\n",
    "importlib.reload(dsci_2022.utils)\n",
    "summary = dsci_2022.utils.produce_summary(results, tokenizer, 0.01)\n",
    "summary"
   ]
  },
  {
   "cell_type": "code",
   "execution_count": null,
   "metadata": {},
   "outputs": [],
   "source": []
  }
 ],
 "metadata": {
  "kernelspec": {
   "display_name": "Python 3 (ipykernel)",
   "language": "python",
   "name": "python3"
  },
  "language_info": {
   "codemirror_mode": {
    "name": "ipython",
    "version": 3
   },
   "file_extension": ".py",
   "mimetype": "text/x-python",
   "name": "python",
   "nbconvert_exporter": "python",
   "pygments_lexer": "ipython3",
   "version": "3.9.6"
  },
  "vscode": {
   "interpreter": {
    "hash": "83108396e0d77d484942493bbbef7c0a1cc37c2094a6ab1dca11eeb36016f6a1"
   }
  }
 },
 "nbformat": 4,
 "nbformat_minor": 2
}
